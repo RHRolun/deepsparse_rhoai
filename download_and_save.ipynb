{
 "cells": [
  {
   "cell_type": "markdown",
   "metadata": {},
   "source": [
    "## Install required libraries"
   ]
  },
  {
   "cell_type": "code",
   "execution_count": null,
   "metadata": {},
   "outputs": [],
   "source": [
    "!pip install -q -U deepsparse-nightly[llm]==1.8.0.20240502 boto3==1.34.126"
   ]
  },
  {
   "cell_type": "markdown",
   "metadata": {},
   "source": [
    "## Download and save the model\n",
    "\n",
    "Here we are using a [7b Granite model](https://huggingface.co/nm-testing/granite-7b-lab-pruned50-quant-ds) that's been pruned and quantized.  \n",
    "You can find more models here: [https://sparsezoo.neuralmagic.com/?modelSet=generative_ai&tasks=text_generation](https://sparsezoo.neuralmagic.com/?modelSet=generative_ai&tasks=text_generation)  \n",
    "Or you can optimize your own model through [this pipeline](https://github.com/luis5tb/neural-magic-poc/blob/main/openshift-ai/pipeline_simplified.py) (requires GPU)."
   ]
  },
  {
   "cell_type": "code",
   "execution_count": null,
   "metadata": {},
   "outputs": [],
   "source": [
    "from deepsparse import TextGeneration\n",
    "\n",
    "model_name = \"hf:nm-testing/granite-7b-lab-pruned50-quant-ds\"\n",
    "\n",
    "pipeline = TextGeneration(model=model_name)\n",
    "print(pipeline.model_path)"
   ]
  },
  {
   "cell_type": "code",
   "execution_count": null,
   "metadata": {},
   "outputs": [],
   "source": [
    "import os\n",
    "import boto3\n",
    "import botocore\n",
    "\n",
    "aws_access_key_id = os.environ.get('AWS_ACCESS_KEY_ID')\n",
    "aws_secret_access_key = os.environ.get('AWS_SECRET_ACCESS_KEY')\n",
    "endpoint_url = os.environ.get('AWS_S3_ENDPOINT')\n",
    "region_name = os.environ.get('AWS_DEFAULT_REGION')\n",
    "bucket_name = os.environ.get('AWS_S3_BUCKET')\n",
    "\n",
    "session = boto3.session.Session(aws_access_key_id=aws_access_key_id,\n",
    "                                aws_secret_access_key=aws_secret_access_key)\n",
    "\n",
    "s3_resource = session.resource(\n",
    "    's3',\n",
    "    config=botocore.client.Config(signature_version='s3v4'),\n",
    "    endpoint_url=endpoint_url,\n",
    "    region_name=region_name)\n",
    "\n",
    "bucket = s3_resource.Bucket(bucket_name)\n",
    "\n",
    "def upload_directory_to_s3(local_directory, s3_prefix, remove_safetensors=False):\n",
    "    for root, dirs, files in os.walk(local_directory):\n",
    "        for filename in files:\n",
    "            file_path = os.path.join(root, filename)\n",
    "            relative_path = os.path.relpath(file_path, local_directory)\n",
    "            if \".git\" in relative_path:\n",
    "                print(f\"skipping {relative_path}\")\n",
    "                continue\n",
    "            if remove_safetensors and \".safetensors\" in relative_path:\n",
    "                print(f\"skipping {relative_path}\")\n",
    "                continue\n",
    "            s3_key = os.path.join(s3_prefix, relative_path)\n",
    "            print(f\"{file_path} -> {s3_key}\")\n",
    "            bucket.upload_file(file_path, s3_key)\n",
    "\n",
    "\n",
    "def list_objects(prefix):\n",
    "    filter = bucket.objects.filter(Prefix=prefix)\n",
    "    for obj in filter.all():\n",
    "        print(obj.key)"
   ]
  },
  {
   "cell_type": "code",
   "execution_count": null,
   "metadata": {},
   "outputs": [],
   "source": [
    "import os\n",
    "\n",
    "upload_directory_to_s3(os.path.dirname(pipeline.model_path), f\"models/{model_name}\")"
   ]
  }
 ],
 "metadata": {
  "language_info": {
   "name": "python"
  }
 },
 "nbformat": 4,
 "nbformat_minor": 2
}
